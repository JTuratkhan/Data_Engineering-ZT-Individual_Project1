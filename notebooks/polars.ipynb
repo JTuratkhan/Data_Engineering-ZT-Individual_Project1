from src.lib import read_dataset, generate_summary_statistics

try:
    data = read_dataset("./notebooks/winequality-red.csv")
    summary = generate_summary_statistics(data)
    print("Test passed")
    print(summary)
except Exception as e:
    print(f"Test failed: {e}")
